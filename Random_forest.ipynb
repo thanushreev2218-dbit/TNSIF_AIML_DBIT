{
  "nbformat": 4,
  "nbformat_minor": 0,
  "metadata": {
    "colab": {
      "provenance": [],
      "authorship_tag": "ABX9TyPrBvlKZINGIwXrLgpGualq",
      "include_colab_link": true
    },
    "kernelspec": {
      "name": "python3",
      "display_name": "Python 3"
    },
    "language_info": {
      "name": "python"
    }
  },
  "cells": [
    {
      "cell_type": "markdown",
      "metadata": {
        "id": "view-in-github",
        "colab_type": "text"
      },
      "source": [
        "<a href=\"https://colab.research.google.com/github/Hamsa-18/Capgemini-training/blob/main/Random_forest.ipynb\" target=\"_parent\"><img src=\"https://colab.research.google.com/assets/colab-badge.svg\" alt=\"Open In Colab\"/></a>"
      ]
    },
    {
      "cell_type": "code",
      "execution_count": null,
      "metadata": {
        "id": "rAZ0JmdktqiP",
        "colab": {
          "base_uri": "https://localhost:8080/"
        },
        "outputId": "a198a3c7-403c-45e7-99fd-008fa5633c5b"
      },
      "outputs": [
        {
          "output_type": "stream",
          "name": "stdout",
          "text": [
            "First 5 rows of the dataset:\n",
            "   Age Department  Years_At_Company  Salary Overtime  JobSatisfaction  \\\n",
            "0   29      Sales                12      38       No                3   \n",
            "1   23    Finance                12      98       No                1   \n",
            "2   39       Tech                19      46       No                1   \n",
            "3   37    Finance                14      46       No                5   \n",
            "4   36       Tech                16      90       No                4   \n",
            "\n",
            "  Attrition  \n",
            "0        No  \n",
            "1       Yes  \n",
            "2        No  \n",
            "3       Yes  \n",
            "4       Yes  \n",
            "\n",
            "Dataset Info:\n",
            "<class 'pandas.core.frame.DataFrame'>\n",
            "RangeIndex: 50 entries, 0 to 49\n",
            "Data columns (total 7 columns):\n",
            " #   Column            Non-Null Count  Dtype \n",
            "---  ------            --------------  ----- \n",
            " 0   Age               50 non-null     int64 \n",
            " 1   Department        50 non-null     object\n",
            " 2   Years_At_Company  50 non-null     int64 \n",
            " 3   Salary            50 non-null     int64 \n",
            " 4   Overtime          50 non-null     object\n",
            " 5   JobSatisfaction   50 non-null     int64 \n",
            " 6   Attrition         50 non-null     object\n",
            "dtypes: int64(4), object(3)\n",
            "memory usage: 2.9+ KB\n",
            "None\n",
            "\n",
            "Missing values:\n",
            "Age                 0\n",
            "Department          0\n",
            "Years_At_Company    0\n",
            "Salary              0\n",
            "Overtime            0\n",
            "JobSatisfaction     0\n",
            "Attrition           0\n",
            "dtype: int64\n"
          ]
        }
      ],
      "source": [
        "# Step 1: Data Understanding\n",
        "import pandas as pd\n",
        "\n",
        "# Load dataset (use forward slashes for Windows paths)\n",
        "df = pd.read_csv(\"/content/employee_attrition.csv\")\n",
        "\n",
        "# First 5 rows\n",
        "print(\"First 5 rows of the dataset:\")\n",
        "print(df.head())\n",
        "\n",
        "# Dataset info\n",
        "print(\"\\nDataset Info:\")\n",
        "print(df.info())\n",
        "\n",
        "# Missing values check\n",
        "print(\"\\nMissing values:\")\n",
        "print(df.isnull().sum())\n",
        "\n",
        "# Fill missing values (categorical → mode, numeric → median)\n",
        "for col in df.columns:\n",
        "    if df[col].dtype == \"object\":\n",
        "        df[col] = df[col].fillna(df[col].mode()[0])\n",
        "    else:\n",
        "        df[col] = df[col].fillna(df[col].median())"
      ]
    },
    {
      "cell_type": "code",
      "source": [
        "# Step 2: Data Preprocessing\n",
        "from sklearn.model_selection import train_test_split\n",
        "from sklearn.preprocessing import LabelEncoder\n",
        "\n",
        "# Encode categorical variables\n",
        "le = LabelEncoder()\n",
        "for col in df.columns:\n",
        "    if df[col].dtype == \"object\":\n",
        "        df[col] = le.fit_transform(df[col])\n",
        "\n",
        "# Features & Target\n",
        "X = df.drop(\"Attrition\", axis=1)\n",
        "y = df[\"Attrition\"]\n",
        "\n",
        "# Train-test split (70/30)\n",
        "X_train, X_test, y_train, y_test = train_test_split(\n",
        "    X, y, test_size=0.3, random_state=42, stratify=y\n",
        ")\n",
        "\n",
        "print(\"Training set shape:\", X_train.shape)\n",
        "print(\"Testing set shape:\", X_test.shape)"
      ],
      "metadata": {
        "colab": {
          "base_uri": "https://localhost:8080/"
        },
        "id": "ipRcUBU7vITL",
        "outputId": "3b039802-5d91-4b3d-9a38-a1a31c03d41b"
      },
      "execution_count": null,
      "outputs": [
        {
          "output_type": "stream",
          "name": "stdout",
          "text": [
            "Training set shape: (35, 6)\n",
            "Testing set shape: (15, 6)\n"
          ]
        }
      ]
    },
    {
      "cell_type": "code",
      "source": [
        "# Step 3: Model Building\n",
        "from sklearn.ensemble import RandomForestClassifier\n",
        "\n",
        "# Train Random Forest\n",
        "rf = RandomForestClassifier(random_state=42)\n",
        "rf.fit(X_train, y_train)\n",
        "\n",
        "# Number of trees and features\n",
        "print(\"Number of trees:\", len(rf.estimators_))\n",
        "print(\"Number of features:\", rf.n_features_in_)"
      ],
      "metadata": {
        "colab": {
          "base_uri": "https://localhost:8080/"
        },
        "id": "s9OrqdsovHuF",
        "outputId": "5a501ca3-6a09-431f-9306-455662831ff3"
      },
      "execution_count": null,
      "outputs": [
        {
          "output_type": "stream",
          "name": "stdout",
          "text": [
            "Number of trees: 100\n",
            "Number of features: 6\n"
          ]
        }
      ]
    },
    {
      "cell_type": "code",
      "source": [
        "# Step 4: Model Evaluation\n",
        "from sklearn.metrics import accuracy_score, confusion_matrix, classification_report\n",
        "import seaborn as sns\n",
        "import matplotlib.pyplot as plt\n",
        "\n",
        "# Predictions\n",
        "y_pred = rf.predict(X_test)\n",
        "\n",
        "# Evaluation\n",
        "print(\"Accuracy:\", accuracy_score(y_test, y_pred))\n",
        "print(\"\\nConfusion Matrix:\\n\", confusion_matrix(y_test, y_pred))\n",
        "print(\"\\nClassification Report:\\n\", classification_report(y_test, y_pred))\n",
        "\n",
        "# Confusion matrix heatmap\n",
        "plt.figure(figsize=(5,4))\n",
        "sns.heatmap(confusion_matrix(y_test, y_pred), annot=True, fmt=\"d\", cmap=\"Blues\")\n",
        "plt.title(\"Confusion Matrix\")\n",
        "plt.xlabel(\"Predicted\")\n",
        "plt.ylabel(\"Actual\")\n",
        "plt.show()"
      ],
      "metadata": {
        "colab": {
          "base_uri": "https://localhost:8080/",
          "height": 688
        },
        "id": "AYdPNLwHv3gv",
        "outputId": "48e4563f-bfaa-4554-b382-04ad5628aaba"
      },
      "execution_count": null,
      "outputs": [
        {
          "output_type": "stream",
          "name": "stdout",
          "text": [
            "Accuracy: 0.4666666666666667\n",
            "\n",
            "Confusion Matrix:\n",
            " [[5 2]\n",
            " [6 2]]\n",
            "\n",
            "Classification Report:\n",
            "               precision    recall  f1-score   support\n",
            "\n",
            "           0       0.45      0.71      0.56         7\n",
            "           1       0.50      0.25      0.33         8\n",
            "\n",
            "    accuracy                           0.47        15\n",
            "   macro avg       0.48      0.48      0.44        15\n",
            "weighted avg       0.48      0.47      0.44        15\n",
            "\n"
          ]
        },
        {
          "output_type": "display_data",
          "data": {
            "text/plain": [
              "<Figure size 500x400 with 2 Axes>"
            ],
            "image/png": "[encoded data removed]"
          },
          "metadata": {}
        }
      ]
    },
    {
      "cell_type": "code",
      "source": [
        "# Step 5: Model Tuning\n",
        "# Try with different hyperparameters\n",
        "rf_tuned = RandomForestClassifier(\n",
        "    n_estimators=200, max_depth=10, criterion=\"entropy\", random_state=42\n",
        ")\n",
        "rf_tuned.fit(X_train, y_train)\n",
        "\n",
        "y_pred_tuned = rf_tuned.predict(X_test)\n",
        "\n",
        "print(\"Tuned Accuracy:\", accuracy_score(y_test, y_pred_tuned))\n",
        "print(\"\\nTuned Report:\\n\", classification_report(y_test, y_pred_tuned))\n",
        "\n",
        "# Feature importance\n",
        "importances = pd.DataFrame({\n",
        "    \"Feature\": X.columns,\n",
        "    \"Importance\": rf_tuned.feature_importances_\n",
        "}).sort_values(by=\"Importance\", ascending=False)\n",
        "\n",
        "print(\"\\nTop 10 Important Features:\")\n",
        "print(importances.head(10))\n",
        "\n",
        "# Plot feature importance\n",
        "plt.figure(figsize=(8,5))\n",
        "sns.barplot(\n",
        "    x=\"Importance\",\n",
        "    y=\"Feature\",\n",
        "    data=importances.head(10),\n",
        "    hue=\"Feature\",\n",
        "    dodge=False,\n",
        "    legend=False,\n",
        "    palette=\"viridis\"\n",
        ")\n",
        "plt.title(\"Top 10 Feature Importances\")\n",
        "plt.show()"
      ],
      "metadata": {
        "colab": {
          "base_uri": "https://localhost:8080/",
          "height": 851
        },
        "id": "FbsVKoF1v3bZ",
        "outputId": "801c333f-0404-484f-feec-ae7e2ed07616"
      },
      "execution_count": null,
      "outputs": [
        {
          "output_type": "stream",
          "name": "stdout",
          "text": [
            "Tuned Accuracy: 0.4666666666666667\n",
            "\n",
            "Tuned Report:\n",
            "               precision    recall  f1-score   support\n",
            "\n",
            "           0       0.45      0.71      0.56         7\n",
            "           1       0.50      0.25      0.33         8\n",
            "\n",
            "    accuracy                           0.47        15\n",
            "   macro avg       0.48      0.48      0.44        15\n",
            "weighted avg       0.48      0.47      0.44        15\n",
            "\n",
            "\n",
            "Top 10 Important Features:\n",
            "            Feature  Importance\n",
            "3            Salary    0.306880\n",
            "0               Age    0.249353\n",
            "2  Years_At_Company    0.181361\n",
            "5   JobSatisfaction    0.126319\n",
            "1        Department    0.102694\n",
            "4          Overtime    0.033393\n"
          ]
        },
        {
          "output_type": "display_data",
          "data": {
            "text/plain": [
              "<Figure size 800x500 with 1 Axes>"
            ],
            "image/png": "[encoded data removed]"
          },
          "metadata": {}
        }
      ]
    },
    {
      "cell_type": "code",
      "source": [
        "# Step 6: Insights & Conclusion\n",
        "print(\"\\n--- Insights & Conclusion ---\")\n",
        "\n",
        "# Most important features\n",
        "print(\"Most important predictors of attrition are:\\n\", importances.head(5))\n",
        "\n",
        "# HR manager recommendations\n",
        "print(\"\"\"\n",
        "If I were the HR manager, I would act on these insights:\n",
        "- If Overtime is a top factor → Reduce excessive overtime & balance workload.\n",
        "- If Monthly Income is important → Review salary structure to improve retention.\n",
        "- If Job Role/Department shows high attrition → Provide mentorship & better career growth.\n",
        "- If Work-Life Balance or Environment Satisfaction matters → Encourage flexible work and improve work culture.\n",
        "- Regular employee surveys → Address dissatisfaction early to reduce turnover.\n",
        "\"\"\")"
      ],
      "metadata": {
        "colab": {
          "base_uri": "https://localhost:8080/"
        },
        "id": "lpzgKq81wBJT",
        "outputId": "dc83cff7-b9fe-4b35-e8d7-3c4f80ad4db2"
      },
      "execution_count": null,
      "outputs": [
        {
          "output_type": "stream",
          "name": "stdout",
          "text": [
            "\n",
            "--- Insights & Conclusion ---\n",
            "Most important predictors of attrition are:\n",
            "             Feature  Importance\n",
            "3            Salary    0.306880\n",
            "0               Age    0.249353\n",
            "2  Years_At_Company    0.181361\n",
            "5   JobSatisfaction    0.126319\n",
            "1        Department    0.102694\n",
            "\n",
            "If I were the HR manager, I would act on these insights:\n",
            "- If Overtime is a top factor → Reduce excessive overtime & balance workload.\n",
            "- If Monthly Income is important → Review salary structure to improve retention.\n",
            "- If Job Role/Department shows high attrition → Provide mentorship & better career growth.\n",
            "- If Work-Life Balance or Environment Satisfaction matters → Encourage flexible work and improve work culture.\n",
            "- Regular employee surveys → Address dissatisfaction early to reduce turnover.\n",
            "\n"
          ]
        }
      ]
    }
  ]
}