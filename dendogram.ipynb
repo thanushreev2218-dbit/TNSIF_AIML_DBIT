{
 "cells": [
  {
   "cell_type": "code",
   "execution_count": 2,
   "metadata": {},
   "outputs": [
    {
     "name": "stdout",
     "output_type": "stream",
     "text": [
      "Dataset:\n",
      "    CustomerID  Annual Income  Spending Score\n",
      "0           1             15              39\n",
      "1           2             16              81\n",
      "2           3             17               6\n",
      "3           4             18              77\n",
      "4           5             19              40\n",
      "5           6             20              76\n",
      "6           7             21               6\n",
      "7           8             22              94\n",
      "8           9             23               3\n",
      "9          10             24              72\n",
      "\n",
      "The dataset represents 10 customers with their CustomerID, annual income (in some unit), and spending score (customer behavior metric).\n",
      "\n",
      "We select 'Annual Income' and 'Spending Score' because they capture customers’ purchasing power and behavior, which are key for segmentation.\n"
     ]
    },
    {
     "data": {
      "image/png": "[encoded data removed]",
      "text/plain": [
       "<Figure size 576x360 with 1 Axes>"
      ]
     },
     "metadata": {},
     "output_type": "display_data"
    },
    {
     "name": "stdout",
     "output_type": "stream",
     "text": [
      "\n",
      "The dendrogram shows how customers are merged step by step into clusters based on similarity.\n",
      "\n",
      "We decide the optimal number of clusters by finding the largest vertical distance in the dendrogram that does not cross any horizontal line (the 'elbow' or 'cut').\n",
      "\n",
      "Final Cluster Assignments:\n",
      "   CustomerID  Annual Income  Spending Score  Cluster\n",
      "0           1             15              39        2\n",
      "1           2             16              81        0\n",
      "2           3             17               6        1\n",
      "3           4             18              77        0\n",
      "4           5             19              40        2\n",
      "5           6             20              76        0\n",
      "6           7             21               6        1\n",
      "7           8             22              94        0\n",
      "8           9             23               3        1\n",
      "9          10             24              72        0\n"
     ]
    },
    {
     "data": {
      "image/png": "[encoded data removed]",
      "text/plain": [
       "<Figure size 576x360 with 1 Axes>"
      ]
     },
     "metadata": {},
     "output_type": "display_data"
    },
    {
     "name": "stdout",
     "output_type": "stream",
     "text": [
      "\n",
      "Business Insights:\n",
      "Cluster 0: Likely high spenders with medium income → potential loyal customers.\n",
      "Cluster 1: Low spending score customers regardless of income → price-sensitive or disengaged customers.\n",
      "Cluster 2: Balanced income with high spending score → good targets for promotions or premium services.\n"
     ]
    }
   ],
   "source": [
    "import pandas as pd\n",
    "import matplotlib.pyplot as plt\n",
    "from scipy.cluster.hierarchy import dendrogram, linkage\n",
    "from sklearn.cluster import AgglomerativeClustering\n",
    "\n",
    "\n",
    "data = {\n",
    "    'CustomerID': [1,2,3,4,5,6,7,8,9,10],\n",
    "    'Annual Income': [15,16,17,18,19,20,21,22,23,24],\n",
    "    'Spending Score': [39,81,6,77,40,76,6,94,3,72]\n",
    "}\n",
    "df = pd.DataFrame(data)\n",
    "print(\"Dataset:\\n\", df)\n",
    "\n",
    "# What does the data represent?\n",
    "print(\"\\nThe dataset represents 10 customers with their CustomerID, annual income (in some unit), and spending score (customer behavior metric).\")\n",
    "\n",
    "# -----------------------------\n",
    "# 2. Select features\n",
    "# -----------------------------\n",
    "X = df[['Annual Income', 'Spending Score']]\n",
    "\n",
    "print(\"\\nWe select 'Annual Income' and 'Spending Score' because they capture customers’ purchasing power and behavior, which are key for segmentation.\")\n",
    "\n",
    "# -----------------------------\n",
    "# 3. Generate Dendrogram\n",
    "# -----------------------------\n",
    "linked = linkage(X, method='ward')\n",
    "\n",
    "plt.figure(figsize=(8, 5))\n",
    "dendrogram(linked,\n",
    "           orientation='top',\n",
    "           distance_sort='descending',\n",
    "           show_leaf_counts=True)\n",
    "plt.title(\"Customer Dendrogram\")\n",
    "plt.xlabel(\"Customer Index\")\n",
    "plt.ylabel(\"Euclidean Distance\")\n",
    "plt.show()\n",
    "\n",
    "print(\"\\nThe dendrogram shows how customers are merged step by step into clusters based on similarity.\")\n",
    "\n",
    "# -----------------------------\n",
    "# 4. Decide optimal number of clusters\n",
    "# -----------------------------\n",
    "print(\"\\nWe decide the optimal number of clusters by finding the largest vertical distance in the dendrogram that does not cross any horizontal line (the 'elbow' or 'cut').\")\n",
    "\n",
    "# -----------------------------\n",
    "# 5. Apply Agglomerative Clustering\n",
    "# -----------------------------\n",
    "# Suppose from dendrogram we decide on 3 clusters\n",
    "model = AgglomerativeClustering(n_clusters=3, affinity='euclidean', linkage='ward')\n",
    "df['Cluster'] = model.fit_predict(X)\n",
    "\n",
    "print(\"\\nFinal Cluster Assignments:\")\n",
    "print(df[['CustomerID', 'Annual Income', 'Spending Score', 'Cluster']])\n",
    "\n",
    "# -----------------------------\n",
    "# 6. Interpret clusters (Matplotlib only, works everywhere)\n",
    "# -----------------------------\n",
    "plt.figure(figsize=(8, 5))\n",
    "colors = ['red', 'blue', 'green', 'orange', 'purple']  # add more if needed\n",
    "for cluster in df['Cluster'].unique():\n",
    "    cluster_data = df[df['Cluster'] == cluster]\n",
    "    plt.scatter(cluster_data['Annual Income'],\n",
    "                cluster_data['Spending Score'],\n",
    "                s=100,\n",
    "                color=colors[cluster],\n",
    "                label=f'Cluster {cluster}')\n",
    "\n",
    "plt.title(\"Customer Segments\")\n",
    "plt.xlabel(\"Annual Income\")\n",
    "plt.ylabel(\"Spending Score\")\n",
    "plt.legend()\n",
    "plt.show()\n",
    "\n",
    "print(\"\\nBusiness Insights:\")\n",
    "print(\"Cluster 0: Likely high spenders with medium income → potential loyal customers.\")\n",
    "print(\"Cluster 1: Low spending score customers regardless of income → price-sensitive or disengaged customers.\")\n",
    "print(\"Cluster 2: Balanced income with high spending score → good targets for promotions or premium services.\")\n"
   ]
  },
  {
   "cell_type": "code",
   "execution_count": null,
   "metadata": {},
   "outputs": [],
   "source": []
  }
 ],
 "metadata": {
  "kernelspec": {
   "display_name": "Python 3",
   "language": "python",
   "name": "python3"
  },
  "language_info": {
   "codemirror_mode": {
    "name": "ipython",
    "version": 3
   },
   "file_extension": ".py",
   "mimetype": "text/x-python",
   "name": "python",
   "nbconvert_exporter": "python",
   "pygments_lexer": "ipython3",
   "version": "3.6.5"
  }
 },
 "nbformat": 4,
 "nbformat_minor": 2
}
