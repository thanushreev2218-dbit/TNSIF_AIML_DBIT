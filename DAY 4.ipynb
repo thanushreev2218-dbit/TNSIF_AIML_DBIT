{
 "cells": [
  {
   "cell_type": "code",
   "execution_count": 1,
   "metadata": {},
   "outputs": [
    {
     "name": "stdout",
     "output_type": "stream",
     "text": [
      "Enter the number of employees: 4\n",
      "Enter salary of employee 1: 23\n",
      "Enter salary of employee 2: 45\n",
      "Enter salary of employee 3: 90\n",
      "Enter salary of employee 4: 76\n",
      "Salaries : (23.0, 45.0, 90.0, 76.0)\n",
      "Minimum salary is: 23.0\n",
      "Maximum salary is: 90.0\n"
     ]
    }
   ],
   "source": [
    "\n",
    "n = int(input(\"Enter the number of employees: \"))\n",
    "temp_list = []\n",
    "for i in range(n):\n",
    "    sal = float(input(f\"Enter salary of employee {i + 1}: \"))\n",
    "    temp_list.append(sal)\n",
    "salaries = tuple(temp_list)\n",
    "min_salary = min(salaries)\n",
    "max_salary = max(salaries)\n",
    "print(\"Salaries :\", salaries)\n",
    "print(\"Minimum salary is:\", min_salary)\n",
    "print(\"Maximum salary is:\", max_salary)"
   ]
  },
  {
   "cell_type": "code",
   "execution_count": null,
   "metadata": {},
   "outputs": [],
   "source": []
  }
 ],
 "metadata": {
  "kernelspec": {
   "display_name": "Python 3",
   "language": "python",
   "name": "python3"
  },
  "language_info": {
   "codemirror_mode": {
    "name": "ipython",
    "version": 3
   },
   "file_extension": ".py",
   "mimetype": "text/x-python",
   "name": "python",
   "nbconvert_exporter": "python",
   "pygments_lexer": "ipython3",
   "version": "3.6.5"
  }
 },
 "nbformat": 4,
 "nbformat_minor": 2
}
